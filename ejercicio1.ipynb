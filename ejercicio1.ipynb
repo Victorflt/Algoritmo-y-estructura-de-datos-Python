{
  "nbformat": 4,
  "nbformat_minor": 0,
  "metadata": {
    "colab": {
      "name": "Untitled3.ipynb",
      "provenance": []
    },
    "kernelspec": {
      "name": "python3",
      "display_name": "Python 3"
    },
    "language_info": {
      "name": "python"
    }
  },
  "cells": [
    {
      "cell_type": "markdown",
      "metadata": {
        "id": "dg7csCt8viPt"
      },
      "source": [
        "Ejercio 1: Se tiene la siguiente lista de valores:\n",
        "\n",
        "lista_ = [1,2,3,4,5,6,6, [2,4,5,6,7,8,9], 'hola', 45]\n",
        "\n",
        "Necesitamos extraer de la lista anidada todos los valores que sean menores a 7 ya que son de vital importancia para generar un diccionario de datos.\n",
        "\n",
        "Consejo: use type para conocer el tipo de datos de los valores de la lista."
      ]
    },
    {
      "cell_type": "code",
      "metadata": {
        "id": "4TfGTnfVvhky"
      },
      "source": [
        "lista_ = [1,2,3,4,5,6,6, [2,4,5,6,6,5,4,3,2,1,5,6,7,8,9], 'hola', 45]\n",
        "\n",
        "def get_values_mix_list(lista):\n",
        "  for i in range(len(lista)):\n",
        "    if type(lista[i])==list:\n",
        "      get_list=[]\n",
        "      for j in range(len(lista[i])):\n",
        "        if lista[i][j]<7:\n",
        "          get_list.append(lista[i][j])\n",
        "\n",
        "  return get_list\n",
        "\n",
        "\n",
        "#Los siguientes comentario se corre cuando se obtenga la lista para evaluar si corresponde al resultado dado\n",
        "#result = [2, 4, 5, 6, 6, 5, 4, 3, 2, 1, 5, 6]\n",
        "#print(result == get_list)"
      ],
      "execution_count": 18,
      "outputs": []
    },
    {
      "cell_type": "code",
      "metadata": {
        "colab": {
          "base_uri": "https://localhost:8080/"
        },
        "id": "9VXTxiX0wk39",
        "outputId": "54fb1ac0-d0a1-4e85-a68e-5897709151fa"
      },
      "source": [
        "print(get_values_mix_list(lista_))"
      ],
      "execution_count": 19,
      "outputs": [
        {
          "output_type": "stream",
          "text": [
            "[2, 4, 5, 6, 6, 5, 4, 3, 2, 1, 5, 6]\n"
          ],
          "name": "stdout"
        }
      ]
    },
    {
      "cell_type": "code",
      "metadata": {
        "id": "v1g_-qAewtLp"
      },
      "source": [
        ""
      ],
      "execution_count": null,
      "outputs": []
    }
  ]
}