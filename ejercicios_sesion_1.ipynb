{
  "nbformat": 4,
  "nbformat_minor": 0,
  "metadata": {
    "colab": {
      "name": "Untitled3.ipynb",
      "provenance": []
    },
    "kernelspec": {
      "name": "python3",
      "display_name": "Python 3"
    },
    "language_info": {
      "name": "python"
    }
  },
  "cells": [
    {
      "cell_type": "markdown",
      "metadata": {
        "id": "dg7csCt8viPt"
      },
      "source": [
        "Ejercio 1: Se tiene la siguiente lista de valores:\n",
        "\n",
        "lista_ = [1,2,3,4,5,6,6, [2,4,5,6,7,8,9], 'hola', 45]\n",
        "\n",
        "Necesitamos extraer de la lista anidada todos los valores que sean menores a 7 ya que son de vital importancia para generar un diccionario de datos.\n",
        "\n",
        "Consejo: use type para conocer el tipo de datos de los valores de la lista."
      ]
    },
    {
      "cell_type": "code",
      "metadata": {
        "id": "4TfGTnfVvhky"
      },
      "source": [
        "lista_ = [1,2,3,4,5,6,6, [2,4,5,6,6,5,4,3,2,1,5,6,7,8,9], 'hola', 45]\n",
        "\n",
        "def get_values_mix_list(lista):\n",
        "  for i in range(len(lista)-1):\n",
        "    if type(lista[i])==list:\n",
        "      get_list=[]\n",
        "      for j in range(len(lista[i])-1):\n",
        "        if lista[i][j]<7:\n",
        "          get_list.append(lista[i][j])\n",
        "\n",
        "  return get_list\n",
        "\n",
        "\n",
        "#Los siguientes comentario se corre cuando se obtenga la lista para evaluar si corresponde al resultado dado\n",
        "#result = [2, 4, 5, 6, 6, 5, 4, 3, 2, 1, 5, 6]\n",
        "#print(result == get_list)"
      ],
      "execution_count": 20,
      "outputs": []
    },
    {
      "cell_type": "code",
      "metadata": {
        "colab": {
          "base_uri": "https://localhost:8080/"
        },
        "id": "9VXTxiX0wk39",
        "outputId": "6ffdd8d0-bf66-495a-d881-f4bfb2277c37"
      },
      "source": [
        "print(get_values_mix_list(lista_))"
      ],
      "execution_count": 21,
      "outputs": [
        {
          "output_type": "stream",
          "text": [
            "[2, 4, 5, 6, 6, 5, 4, 3, 2, 1, 5, 6]\n"
          ],
          "name": "stdout"
        }
      ]
    },
    {
      "cell_type": "markdown",
      "metadata": {
        "id": "RYwUik-E4CF-"
      },
      "source": [
        "Ejercicio 2: Se trata de que usted genere una función para que los valores obtenidos en la lista pasen a formar parte de un diccionario que nos ayude a hacer consultas de los valores que se encuentran en esta estrctura de datos.\n"
      ]
    },
    {
      "cell_type": "code",
      "metadata": {
        "id": "v1g_-qAewtLp"
      },
      "source": [
        "lista_1=get_values_mix_list(lista_)\n",
        "def create_dict(lista):\n",
        "  get_dict={}\n",
        "  for i in range(len(lista)):\n",
        "      get_dict[i]=lista[i]\n",
        "\n",
        "  return get_dict\n",
        "  \n",
        "#Los siguientes comentario se corre cuando se obtenga la lista para evaluar si corresponde al resultado dado\n",
        "#diccionario_result = {0: 2, 1: 4, 2: 5, 3: 6, 4: 6, 5: 5, 6: 4, 7: 3, 8: 2, 9: 1, 10: 5, 11: 6}\n",
        "#print(diccionario_result == get_dict)"
      ],
      "execution_count": 43,
      "outputs": []
    },
    {
      "cell_type": "code",
      "metadata": {
        "colab": {
          "base_uri": "https://localhost:8080/"
        },
        "id": "ES2HztgN6Rf7",
        "outputId": "9924c1cb-863e-4403-c40d-932b0503d6d6"
      },
      "source": [
        "print(create_dict(lista_1))"
      ],
      "execution_count": 44,
      "outputs": [
        {
          "output_type": "stream",
          "text": [
            "{0: 2, 1: 4, 2: 5, 3: 6, 4: 6, 5: 5, 6: 4, 7: 3, 8: 2, 9: 1, 10: 5, 11: 6}\n"
          ],
          "name": "stdout"
        }
      ]
    }
  ]
}
