{
  "nbformat": 4,
  "nbformat_minor": 0,
  "metadata": {
    "colab": {
      "name": "Untitled2.ipynb",
      "provenance": [],
      "authorship_tag": "ABX9TyPElmcQz8nxuTSBqVp1cpF8",
      "include_colab_link": true
    },
    "kernelspec": {
      "name": "python3",
      "display_name": "Python 3"
    },
    "language_info": {
      "name": "python"
    }
  },
  "cells": [
    {
      "cell_type": "markdown",
      "metadata": {
        "id": "view-in-github",
        "colab_type": "text"
      },
      "source": [
        "<a href=\"https://colab.research.google.com/github/Victorflt/Algoritmo-y-estructura-de-datos-Python/blob/main/ejercicio3.ipynb\" target=\"_parent\"><img src=\"https://colab.research.google.com/assets/colab-badge.svg\" alt=\"Open In Colab\"/></a>"
      ]
    },
    {
      "cell_type": "markdown",
      "metadata": {
        "id": "AWSstgbtSxOo"
      },
      "source": [
        "# **Ordenamiento (Buble Sort)**"
      ]
    },
    {
      "cell_type": "markdown",
      "metadata": {
        "id": "MNyqq44aS_ld"
      },
      "source": [
        "Lo que busca este algoritmo es ordenar los elementos "
      ]
    },
    {
      "cell_type": "code",
      "metadata": {
        "id": "HKj2NmUTYxSa"
      },
      "source": [
        "\n",
        "def BubleSort(lista_):\n",
        "  for stepe in range(len(lista_)-1,0,-1):\n",
        "   for i in range(stepe):\n",
        "      if lista_[i]>lista_[i+1]:\n",
        "        temp=lista_[i]\n",
        "        lista_[i]=lista_[i+1]\n",
        "        lista_[i+1]=temp\n",
        "  return lista_\n"
      ],
      "execution_count": 9,
      "outputs": []
    },
    {
      "cell_type": "code",
      "metadata": {
        "colab": {
          "base_uri": "https://localhost:8080/"
        },
        "id": "2kJo5ZBjaSmA",
        "outputId": "4279ef43-d781-4123-dd5c-0423d3cc061e"
      },
      "source": [
        "lista=[5,1,6,2,4,6]\n",
        "print(BubleSort(lista))"
      ],
      "execution_count": 10,
      "outputs": [
        {
          "output_type": "stream",
          "text": [
            "[1, 2, 4, 5, 6, 6]\n"
          ],
          "name": "stdout"
        }
      ]
    },
    {
      "cell_type": "code",
      "metadata": {
        "id": "XxLtZL5-h36b"
      },
      "source": [
        "def unsortedList(size_of_array):\n",
        "  import random\n",
        "  random_list=[]\n",
        "  for i in range(0,size_of_array):\n",
        "    n=random.randint(1,100)\n",
        "    random_list.append(n)\n",
        "  return random_list"
      ],
      "execution_count": 22,
      "outputs": []
    },
    {
      "cell_type": "code",
      "metadata": {
        "colab": {
          "base_uri": "https://localhost:8080/"
        },
        "id": "kb81b5ekipUy",
        "outputId": "46f1a82e-c0d9-49b1-aa01-8627f886f0a6"
      },
      "source": [
        "BubleSort(unsortedList(10))"
      ],
      "execution_count": 23,
      "outputs": [
        {
          "output_type": "execute_result",
          "data": {
            "text/plain": [
              "[11, 23, 45, 46, 58, 70, 71, 73, 79, 92]"
            ]
          },
          "metadata": {
            "tags": []
          },
          "execution_count": 23
        }
      ]
    },
    {
      "cell_type": "code",
      "metadata": {
        "id": "1W5k0tW4i4eN"
      },
      "source": [
        "def bubleSortOptimized(valor):\n",
        "  swapped=True\n",
        "  steps_=len(valor)-1\n",
        "  while steps_ > 0 and swapped:   #swapped sea verdadero\n",
        "    swapped = False\n",
        "    for i in range(steps_):\n",
        "      if valor[i]>valor[i+1]:\n",
        "        swapped=True\n",
        "        \n",
        "        temp=valor[i]\n",
        "        valor[i]=valor[i+1]\n",
        "        valor[i+1]=temp\n",
        "    steps_=steps_-1\n",
        "  return valor"
      ],
      "execution_count": 45,
      "outputs": []
    },
    {
      "cell_type": "code",
      "metadata": {
        "id": "XpEikUpdmE3_",
        "outputId": "725f1a49-a864-45dc-ec83-2837d3f22392",
        "colab": {
          "base_uri": "https://localhost:8080/"
        }
      },
      "source": [
        "bubleSortOptimized([1,4,3,4,6,5,7,8,9,1])"
      ],
      "execution_count": 47,
      "outputs": [
        {
          "output_type": "execute_result",
          "data": {
            "text/plain": [
              "[1, 1, 3, 4, 4, 5, 6, 7, 8, 9]"
            ]
          },
          "metadata": {
            "tags": []
          },
          "execution_count": 47
        }
      ]
    },
    {
      "cell_type": "code",
      "metadata": {
        "id": "lxV3pwx8mPAa"
      },
      "source": [
        ""
      ],
      "execution_count": null,
      "outputs": []
    }
  ]
}