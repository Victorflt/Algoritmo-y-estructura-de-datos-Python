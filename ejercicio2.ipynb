{
  "nbformat": 4,
  "nbformat_minor": 0,
  "metadata": {
    "colab": {
      "name": "Untitled1.ipynb",
      "provenance": []
    },
    "kernelspec": {
      "name": "python3",
      "display_name": "Python 3"
    },
    "language_info": {
      "name": "python"
    }
  },
  "cells": [
    {
      "cell_type": "markdown",
      "metadata": {
        "id": "BaQMP89GOX2N"
      },
      "source": [
        "# **Analisis y complejidad de algoritmos**"
      ]
    },
    {
      "cell_type": "code",
      "metadata": {
        "colab": {
          "base_uri": "https://localhost:8080/"
        },
        "id": "_hej6GYMOebv",
        "outputId": "a5537c2e-e66f-4530-b13d-8dddb2e3af4f"
      },
      "source": [
        "a=5 #.........1\n",
        "b=6 #.........1\n",
        "c=10 #.........1\n",
        "n=3\n",
        "for i in range(n): #.........n\n",
        "  for j in range(n): #.........n*n\n",
        "    x=i*i #.........n*n\n",
        "    y=j*j #.........n*n\n",
        "    x=i*j #.........n*n\n",
        "for k in range(n): #.........n\n",
        "  w=k*k #.........n\n",
        "  s=3*k #.........n\n",
        "\n",
        "print(c) #.........1\n",
        "\n",
        "#T(n)= 3 + 3n^2 + 2n + 1 = 3n^2 + 2n + 4\n",
        "#Termino dominante en notacion big O: O(n^2)"
      ],
      "execution_count": 4,
      "outputs": [
        {
          "output_type": "stream",
          "text": [
            "10\n"
          ],
          "name": "stdout"
        }
      ]
    },
    {
      "cell_type": "markdown",
      "metadata": {
        "id": "h_uKH-kvTkdn"
      },
      "source": [
        "**TERMINOS DOMINANTES**"
      ]
    },
    {
      "cell_type": "code",
      "metadata": {
        "colab": {
          "base_uri": "https://localhost:8080/"
        },
        "id": "tYVkJBozTp86",
        "outputId": "c6e8c8be-bada-48ee-af8a-5e98e95e119d"
      },
      "source": [
        "#Termino dominante o(1)\n",
        "a=1 #--------1\n",
        "b=2 #--------1\n",
        "c=1 #--------1\n",
        "if a<b: \n",
        "  print('Ok') #--------1\n",
        "else:\n",
        "  print('False') #--------1\n",
        "\n",
        "\n",
        "# T(n)=5\n",
        "#O(1)"
      ],
      "execution_count": 8,
      "outputs": [
        {
          "output_type": "stream",
          "text": [
            "Ok\n"
          ],
          "name": "stdout"
        }
      ]
    },
    {
      "cell_type": "code",
      "metadata": {
        "colab": {
          "base_uri": "https://localhost:8080/"
        },
        "id": "JvtpzRsyUEAL",
        "outputId": "1f53d265-1e16-4617-9efc-8f6eabb9e540"
      },
      "source": [
        "# Notacion dominate O(n) --- Lineal\n",
        "lista = [9,3,2,4,5,6] #--------1\n",
        "for i in range (len(lista)): #--------n\n",
        "  print(i) #--------n\n",
        "\n",
        "#T(n) = n + 1"
      ],
      "execution_count": 9,
      "outputs": [
        {
          "output_type": "stream",
          "text": [
            "0\n",
            "1\n",
            "2\n",
            "3\n",
            "4\n",
            "5\n"
          ],
          "name": "stdout"
        }
      ]
    },
    {
      "cell_type": "code",
      "metadata": {
        "colab": {
          "base_uri": "https://localhost:8080/"
        },
        "id": "uMI6iO6QVEKi",
        "outputId": "100f6f90-7bbc-46df-d381-a78929022925"
      },
      "source": [
        "n=10 #--------1\n",
        "array=[1,2,3,4,5,6,7,8,9,10] #--------1\n",
        "array2=[1,2,3,4,5,6,7,8,9,10,11] #--------1\n",
        "for i in range(len(array)): #--------orden A\n",
        "  for j in range(len(array2)): #--------orden B\n",
        "    print(i)\n",
        "    print(j)\n",
        "\n",
        "  # T(n)=(A*B)+2\n",
        "  #O(A*B)"
      ],
      "execution_count": 10,
      "outputs": [
        {
          "output_type": "stream",
          "text": [
            "0\n",
            "0\n",
            "0\n",
            "1\n",
            "0\n",
            "2\n",
            "0\n",
            "3\n",
            "0\n",
            "4\n",
            "0\n",
            "5\n",
            "0\n",
            "6\n",
            "0\n",
            "7\n",
            "0\n",
            "8\n",
            "0\n",
            "9\n",
            "0\n",
            "10\n",
            "1\n",
            "0\n",
            "1\n",
            "1\n",
            "1\n",
            "2\n",
            "1\n",
            "3\n",
            "1\n",
            "4\n",
            "1\n",
            "5\n",
            "1\n",
            "6\n",
            "1\n",
            "7\n",
            "1\n",
            "8\n",
            "1\n",
            "9\n",
            "1\n",
            "10\n",
            "2\n",
            "0\n",
            "2\n",
            "1\n",
            "2\n",
            "2\n",
            "2\n",
            "3\n",
            "2\n",
            "4\n",
            "2\n",
            "5\n",
            "2\n",
            "6\n",
            "2\n",
            "7\n",
            "2\n",
            "8\n",
            "2\n",
            "9\n",
            "2\n",
            "10\n",
            "3\n",
            "0\n",
            "3\n",
            "1\n",
            "3\n",
            "2\n",
            "3\n",
            "3\n",
            "3\n",
            "4\n",
            "3\n",
            "5\n",
            "3\n",
            "6\n",
            "3\n",
            "7\n",
            "3\n",
            "8\n",
            "3\n",
            "9\n",
            "3\n",
            "10\n",
            "4\n",
            "0\n",
            "4\n",
            "1\n",
            "4\n",
            "2\n",
            "4\n",
            "3\n",
            "4\n",
            "4\n",
            "4\n",
            "5\n",
            "4\n",
            "6\n",
            "4\n",
            "7\n",
            "4\n",
            "8\n",
            "4\n",
            "9\n",
            "4\n",
            "10\n",
            "5\n",
            "0\n",
            "5\n",
            "1\n",
            "5\n",
            "2\n",
            "5\n",
            "3\n",
            "5\n",
            "4\n",
            "5\n",
            "5\n",
            "5\n",
            "6\n",
            "5\n",
            "7\n",
            "5\n",
            "8\n",
            "5\n",
            "9\n",
            "5\n",
            "10\n",
            "6\n",
            "0\n",
            "6\n",
            "1\n",
            "6\n",
            "2\n",
            "6\n",
            "3\n",
            "6\n",
            "4\n",
            "6\n",
            "5\n",
            "6\n",
            "6\n",
            "6\n",
            "7\n",
            "6\n",
            "8\n",
            "6\n",
            "9\n",
            "6\n",
            "10\n",
            "7\n",
            "0\n",
            "7\n",
            "1\n",
            "7\n",
            "2\n",
            "7\n",
            "3\n",
            "7\n",
            "4\n",
            "7\n",
            "5\n",
            "7\n",
            "6\n",
            "7\n",
            "7\n",
            "7\n",
            "8\n",
            "7\n",
            "9\n",
            "7\n",
            "10\n",
            "8\n",
            "0\n",
            "8\n",
            "1\n",
            "8\n",
            "2\n",
            "8\n",
            "3\n",
            "8\n",
            "4\n",
            "8\n",
            "5\n",
            "8\n",
            "6\n",
            "8\n",
            "7\n",
            "8\n",
            "8\n",
            "8\n",
            "9\n",
            "8\n",
            "10\n",
            "9\n",
            "0\n",
            "9\n",
            "1\n",
            "9\n",
            "2\n",
            "9\n",
            "3\n",
            "9\n",
            "4\n",
            "9\n",
            "5\n",
            "9\n",
            "6\n",
            "9\n",
            "7\n",
            "9\n",
            "8\n",
            "9\n",
            "9\n",
            "9\n",
            "10\n"
          ],
          "name": "stdout"
        }
      ]
    },
    {
      "cell_type": "code",
      "metadata": {
        "colab": {
          "base_uri": "https://localhost:8080/"
        },
        "id": "KhevkBhYWFyO",
        "outputId": "9cb9f21e-448c-410e-93f7-6a32fe550945"
      },
      "source": [
        "import time\n",
        "\n",
        "inicio=time.time()\n",
        "lista_anidada=[[1,2],[3,4],[5,6],[7,8],[9,10],[11,12]] #-------1\n",
        "\n",
        "for i in range(0,len(lista_anidada)): #-------n\n",
        "  for j in range(0,len(lista_anidada[0])): #-------a*b\n",
        "    if lista_anidada[i][j]==4: #-------a*b\n",
        "      print('Elvalor cuatro se encuentra en nustra lista anidada') #-------a*b\n",
        "fin=time.time()\n",
        "print(fin-inicio)\n",
        "# T(n) = 1 + 2(a*b)\n",
        "#O(n)= O(a*b)"
      ],
      "execution_count": 23,
      "outputs": [
        {
          "output_type": "stream",
          "text": [
            "Elvalor cuatro se encuentra en nustra lista anidada\n",
            "0.0031604766845703125\n"
          ],
          "name": "stdout"
        }
      ]
    },
    {
      "cell_type": "markdown",
      "metadata": {
        "id": "DeO4ccNZcgkC"
      },
      "source": [
        "**PROBLEMA:**\n",
        "Se tiene una lista de datos que son anidadas, requerimos encontrar el valor minimo de toda nuestra lista de datos, implemente una solucion optima para asegurar que nuestros recurso satisfagan nuestra necesidad"
      ]
    },
    {
      "cell_type": "code",
      "metadata": {
        "id": "7U90eCspcj5n"
      },
      "source": [
        "lista=[5,4,2,1,0]\n",
        "\n",
        "def findMin(alist):\n",
        "  minimo=alist[0]\n",
        "  for i in alist:\n",
        "    valor_minimo=True\n",
        "    for j in alist:\n",
        "      if i>j:\n",
        "        valor_minimo=False\n",
        "    if valor_minimo: # ES LO MISMO QUE PONER IF VALOR_MINIMO=TRUE\n",
        "      minimo=i\n",
        "  return minimo"
      ],
      "execution_count": 37,
      "outputs": []
    },
    {
      "cell_type": "code",
      "metadata": {
        "colab": {
          "base_uri": "https://localhost:8080/"
        },
        "id": "f36duSBPdtht",
        "outputId": "9e730d7e-7334-4075-96fb-497738519a25"
      },
      "source": [
        "print(findMin(lista))"
      ],
      "execution_count": 38,
      "outputs": [
        {
          "output_type": "stream",
          "text": [
            "0\n"
          ],
          "name": "stdout"
        }
      ]
    },
    {
      "cell_type": "code",
      "metadata": {
        "id": "2QHrptv-fi7r"
      },
      "source": [
        "def findMax(alist):\n",
        "  maximo=alist[0]\n",
        "  for i in alist:\n",
        "    valor_maximo=True\n",
        "    for j in alist:\n",
        "      if i<j:\n",
        "        valor_maximo=False\n",
        "    if valor_maximo:\n",
        "      maximo=i\n",
        "  return maximo"
      ],
      "execution_count": 39,
      "outputs": []
    },
    {
      "cell_type": "code",
      "metadata": {
        "colab": {
          "base_uri": "https://localhost:8080/"
        },
        "id": "jxAYwu-vjHAz",
        "outputId": "f6e5e629-f9e2-4cc6-e5b3-44dd3a63db65"
      },
      "source": [
        "print(findMax(lista))"
      ],
      "execution_count": 41,
      "outputs": [
        {
          "output_type": "stream",
          "text": [
            "5\n"
          ],
          "name": "stdout"
        }
      ]
    },
    {
      "cell_type": "code",
      "metadata": {
        "id": "6hff2eLTkEtM"
      },
      "source": [
        ""
      ],
      "execution_count": null,
      "outputs": []
    }
  ]
}